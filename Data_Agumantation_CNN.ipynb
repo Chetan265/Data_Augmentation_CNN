{
 "cells": [
  {
   "cell_type": "code",
   "execution_count": 1,
   "id": "e1c77a94",
   "metadata": {},
   "outputs": [],
   "source": [
    "from keras.preprocessing.image import ImageDataGenerator,array_to_img,img_to_array,load_img"
   ]
  },
  {
   "cell_type": "code",
   "execution_count": 2,
   "id": "364ead02",
   "metadata": {},
   "outputs": [],
   "source": [
    "img_gen = ImageDataGenerator(rotation_range = 40,width_shift_range = 0.2,height_shift_range = 0.2, shear_range = 0.2,\n",
    "                            zoom_range = 0.2, horizontal_flip = True, fill_mode = 'nearest')"
   ]
  },
  {
   "cell_type": "code",
   "execution_count": 3,
   "id": "27eb8362",
   "metadata": {},
   "outputs": [],
   "source": [
    "img = load_img(\"dog.jpg\")"
   ]
  },
  {
   "cell_type": "code",
   "execution_count": 4,
   "id": "f86fb61f",
   "metadata": {},
   "outputs": [],
   "source": [
    "x = img_to_array(img)\n",
    "x = x.reshape((1,) + x.shape)\n",
    "\n",
    "#command generates randomly transformed images and saves in the directory \"Reneuit\"\n",
    "i = 0\n",
    "for batch in img_gen.flow(x,batch_size = 1, save_to_dir = \"C:/Users/Reneuit/OneDrive/Desktop/dogs\",save_prefix = \"dog\",save_format = \"jpeg\"):\n",
    "    i+=1\n",
    "    if i>20:\n",
    "        break"
   ]
  }
 ],
 "metadata": {
  "kernelspec": {
   "display_name": "Python 3",
   "language": "python",
   "name": "python3"
  },
  "language_info": {
   "codemirror_mode": {
    "name": "ipython",
    "version": 3
   },
   "file_extension": ".py",
   "mimetype": "text/x-python",
   "name": "python",
   "nbconvert_exporter": "python",
   "pygments_lexer": "ipython3",
   "version": "3.6.9"
  }
 },
 "nbformat": 4,
 "nbformat_minor": 5
}
